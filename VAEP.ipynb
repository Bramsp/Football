{
  "nbformat": 4,
  "nbformat_minor": 0,
  "metadata": {
    "colab": {
      "name": "Untitled0.ipynb",
      "provenance": [],
      "authorship_tag": "ABX9TyMahF2cXmsPBeGcjyG1nL8W",
      "include_colab_link": true
    },
    "kernelspec": {
      "name": "python3",
      "display_name": "Python 3"
    },
    "widgets": {
      "application/vnd.jupyter.widget-state+json": {
        "4b0e46537eef439095472f6e5ae74452": {
          "model_module": "@jupyter-widgets/controls",
          "model_name": "HBoxModel",
          "state": {
            "_view_name": "HBoxView",
            "_dom_classes": [],
            "_model_name": "HBoxModel",
            "_view_module": "@jupyter-widgets/controls",
            "_model_module_version": "1.5.0",
            "_view_count": null,
            "_view_module_version": "1.5.0",
            "box_style": "",
            "layout": "IPY_MODEL_14eb20d3b9244ff28f0a0526cf093a26",
            "_model_module": "@jupyter-widgets/controls",
            "children": [
              "IPY_MODEL_c114cc6d9178447ab8f8f03041dda45d",
              "IPY_MODEL_a7011776117c462c8809a532d784e04f"
            ]
          }
        },
        "14eb20d3b9244ff28f0a0526cf093a26": {
          "model_module": "@jupyter-widgets/base",
          "model_name": "LayoutModel",
          "state": {
            "_view_name": "LayoutView",
            "grid_template_rows": null,
            "right": null,
            "justify_content": null,
            "_view_module": "@jupyter-widgets/base",
            "overflow": null,
            "_model_module_version": "1.2.0",
            "_view_count": null,
            "flex_flow": null,
            "width": null,
            "min_width": null,
            "border": null,
            "align_items": null,
            "bottom": null,
            "_model_module": "@jupyter-widgets/base",
            "top": null,
            "grid_column": null,
            "overflow_y": null,
            "overflow_x": null,
            "grid_auto_flow": null,
            "grid_area": null,
            "grid_template_columns": null,
            "flex": null,
            "_model_name": "LayoutModel",
            "justify_items": null,
            "grid_row": null,
            "max_height": null,
            "align_content": null,
            "visibility": null,
            "align_self": null,
            "height": null,
            "min_height": null,
            "padding": null,
            "grid_auto_rows": null,
            "grid_gap": null,
            "max_width": null,
            "order": null,
            "_view_module_version": "1.2.0",
            "grid_template_areas": null,
            "object_position": null,
            "object_fit": null,
            "grid_auto_columns": null,
            "margin": null,
            "display": null,
            "left": null
          }
        },
        "c114cc6d9178447ab8f8f03041dda45d": {
          "model_module": "@jupyter-widgets/controls",
          "model_name": "FloatProgressModel",
          "state": {
            "_view_name": "ProgressView",
            "style": "IPY_MODEL_55e6a637d02e45b48a64d1d00017da1a",
            "_dom_classes": [],
            "description": "100%",
            "_model_name": "FloatProgressModel",
            "bar_style": "success",
            "max": 4,
            "_view_module": "@jupyter-widgets/controls",
            "_model_module_version": "1.5.0",
            "value": 4,
            "_view_count": null,
            "_view_module_version": "1.5.0",
            "orientation": "horizontal",
            "min": 0,
            "description_tooltip": null,
            "_model_module": "@jupyter-widgets/controls",
            "layout": "IPY_MODEL_a5235541c8ab49a2bc7a62903eb1f8fd"
          }
        },
        "a7011776117c462c8809a532d784e04f": {
          "model_module": "@jupyter-widgets/controls",
          "model_name": "HTMLModel",
          "state": {
            "_view_name": "HTMLView",
            "style": "IPY_MODEL_000db3a571df4fd6956d5706045ccd8c",
            "_dom_classes": [],
            "description": "",
            "_model_name": "HTMLModel",
            "placeholder": "​",
            "_view_module": "@jupyter-widgets/controls",
            "_model_module_version": "1.5.0",
            "value": " 4/4 [00:52&lt;00:00, 13.07s/it]",
            "_view_count": null,
            "_view_module_version": "1.5.0",
            "description_tooltip": null,
            "_model_module": "@jupyter-widgets/controls",
            "layout": "IPY_MODEL_6f328d08d38d49a38c2df855c9cfe34d"
          }
        },
        "55e6a637d02e45b48a64d1d00017da1a": {
          "model_module": "@jupyter-widgets/controls",
          "model_name": "ProgressStyleModel",
          "state": {
            "_view_name": "StyleView",
            "_model_name": "ProgressStyleModel",
            "description_width": "initial",
            "_view_module": "@jupyter-widgets/base",
            "_model_module_version": "1.5.0",
            "_view_count": null,
            "_view_module_version": "1.2.0",
            "bar_color": null,
            "_model_module": "@jupyter-widgets/controls"
          }
        },
        "a5235541c8ab49a2bc7a62903eb1f8fd": {
          "model_module": "@jupyter-widgets/base",
          "model_name": "LayoutModel",
          "state": {
            "_view_name": "LayoutView",
            "grid_template_rows": null,
            "right": null,
            "justify_content": null,
            "_view_module": "@jupyter-widgets/base",
            "overflow": null,
            "_model_module_version": "1.2.0",
            "_view_count": null,
            "flex_flow": null,
            "width": null,
            "min_width": null,
            "border": null,
            "align_items": null,
            "bottom": null,
            "_model_module": "@jupyter-widgets/base",
            "top": null,
            "grid_column": null,
            "overflow_y": null,
            "overflow_x": null,
            "grid_auto_flow": null,
            "grid_area": null,
            "grid_template_columns": null,
            "flex": null,
            "_model_name": "LayoutModel",
            "justify_items": null,
            "grid_row": null,
            "max_height": null,
            "align_content": null,
            "visibility": null,
            "align_self": null,
            "height": null,
            "min_height": null,
            "padding": null,
            "grid_auto_rows": null,
            "grid_gap": null,
            "max_width": null,
            "order": null,
            "_view_module_version": "1.2.0",
            "grid_template_areas": null,
            "object_position": null,
            "object_fit": null,
            "grid_auto_columns": null,
            "margin": null,
            "display": null,
            "left": null
          }
        },
        "000db3a571df4fd6956d5706045ccd8c": {
          "model_module": "@jupyter-widgets/controls",
          "model_name": "DescriptionStyleModel",
          "state": {
            "_view_name": "StyleView",
            "_model_name": "DescriptionStyleModel",
            "description_width": "",
            "_view_module": "@jupyter-widgets/base",
            "_model_module_version": "1.5.0",
            "_view_count": null,
            "_view_module_version": "1.2.0",
            "_model_module": "@jupyter-widgets/controls"
          }
        },
        "6f328d08d38d49a38c2df855c9cfe34d": {
          "model_module": "@jupyter-widgets/base",
          "model_name": "LayoutModel",
          "state": {
            "_view_name": "LayoutView",
            "grid_template_rows": null,
            "right": null,
            "justify_content": null,
            "_view_module": "@jupyter-widgets/base",
            "overflow": null,
            "_model_module_version": "1.2.0",
            "_view_count": null,
            "flex_flow": null,
            "width": null,
            "min_width": null,
            "border": null,
            "align_items": null,
            "bottom": null,
            "_model_module": "@jupyter-widgets/base",
            "top": null,
            "grid_column": null,
            "overflow_y": null,
            "overflow_x": null,
            "grid_auto_flow": null,
            "grid_area": null,
            "grid_template_columns": null,
            "flex": null,
            "_model_name": "LayoutModel",
            "justify_items": null,
            "grid_row": null,
            "max_height": null,
            "align_content": null,
            "visibility": null,
            "align_self": null,
            "height": null,
            "min_height": null,
            "padding": null,
            "grid_auto_rows": null,
            "grid_gap": null,
            "max_width": null,
            "order": null,
            "_view_module_version": "1.2.0",
            "grid_template_areas": null,
            "object_position": null,
            "object_fit": null,
            "grid_auto_columns": null,
            "margin": null,
            "display": null,
            "left": null
          }
        }
      }
    }
  },
  "cells": [
    {
      "cell_type": "markdown",
      "metadata": {
        "id": "view-in-github",
        "colab_type": "text"
      },
      "source": [
        "<a href=\"https://colab.research.google.com/github/Bramsp/Football/blob/main/VAEP.ipynb\" target=\"_parent\"><img src=\"https://colab.research.google.com/assets/colab-badge.svg\" alt=\"Open In Colab\"/></a>"
      ]
    },
    {
      "cell_type": "code",
      "metadata": {
        "colab": {
          "base_uri": "https://localhost:8080/"
        },
        "id": "bKIIbguRt646",
        "outputId": "dedee421-37f1-4748-8786-3f059939ed82"
      },
      "source": [
        "!pip install tables==3.6.1"
      ],
      "execution_count": 1,
      "outputs": [
        {
          "output_type": "stream",
          "text": [
            "Collecting tables==3.6.1\n",
            "\u001b[?25l  Downloading https://files.pythonhosted.org/packages/0f/cb/4097be890a773af95343389faa8c283b0d9ff606f144227a548461dcbdd5/tables-3.6.1-cp37-cp37m-manylinux1_x86_64.whl (4.3MB)\n",
            "\u001b[K     |████████████████████████████████| 4.3MB 6.8MB/s \n",
            "\u001b[?25hRequirement already satisfied: numexpr>=2.6.2 in /usr/local/lib/python3.7/dist-packages (from tables==3.6.1) (2.7.2)\n",
            "Requirement already satisfied: numpy>=1.9.3 in /usr/local/lib/python3.7/dist-packages (from tables==3.6.1) (1.19.5)\n",
            "Installing collected packages: tables\n",
            "  Found existing installation: tables 3.4.4\n",
            "    Uninstalling tables-3.4.4:\n",
            "      Successfully uninstalled tables-3.4.4\n",
            "Successfully installed tables-3.6.1\n"
          ],
          "name": "stdout"
        }
      ]
    },
    {
      "cell_type": "code",
      "metadata": {
        "colab": {
          "base_uri": "https://localhost:8080/"
        },
        "id": "lQw2Hu0bt_O_",
        "outputId": "6be7102b-591b-41d7-9a60-9306cd1f84c2"
      },
      "source": [
        "!pip install socceraction==0.2.0"
      ],
      "execution_count": 2,
      "outputs": [
        {
          "output_type": "stream",
          "text": [
            "Collecting socceraction==0.2.0\n",
            "  Downloading https://files.pythonhosted.org/packages/e9/e6/28c129b44d39279f445236a3fe676f05db14e8a12fe2954bcfa83db6d723/socceraction-0.2.0.tar.gz\n",
            "Requirement already satisfied: tqdm in /usr/local/lib/python3.7/dist-packages (from socceraction==0.2.0) (4.41.1)\n",
            "Requirement already satisfied: pandas in /usr/local/lib/python3.7/dist-packages (from socceraction==0.2.0) (1.1.5)\n",
            "Requirement already satisfied: numpy in /usr/local/lib/python3.7/dist-packages (from socceraction==0.2.0) (1.19.5)\n",
            "Collecting unidecode\n",
            "\u001b[?25l  Downloading https://files.pythonhosted.org/packages/9e/25/723487ca2a52ebcee88a34d7d1f5a4b80b793f179ee0f62d5371938dfa01/Unidecode-1.2.0-py2.py3-none-any.whl (241kB)\n",
            "\u001b[K     |████████████████████████████████| 245kB 7.3MB/s \n",
            "\u001b[?25hRequirement already satisfied: requests in /usr/local/lib/python3.7/dist-packages (from socceraction==0.2.0) (2.23.0)\n",
            "Requirement already satisfied: python-dateutil>=2.7.3 in /usr/local/lib/python3.7/dist-packages (from pandas->socceraction==0.2.0) (2.8.1)\n",
            "Requirement already satisfied: pytz>=2017.2 in /usr/local/lib/python3.7/dist-packages (from pandas->socceraction==0.2.0) (2018.9)\n",
            "Requirement already satisfied: idna<3,>=2.5 in /usr/local/lib/python3.7/dist-packages (from requests->socceraction==0.2.0) (2.10)\n",
            "Requirement already satisfied: chardet<4,>=3.0.2 in /usr/local/lib/python3.7/dist-packages (from requests->socceraction==0.2.0) (3.0.4)\n",
            "Requirement already satisfied: urllib3!=1.25.0,!=1.25.1,<1.26,>=1.21.1 in /usr/local/lib/python3.7/dist-packages (from requests->socceraction==0.2.0) (1.24.3)\n",
            "Requirement already satisfied: certifi>=2017.4.17 in /usr/local/lib/python3.7/dist-packages (from requests->socceraction==0.2.0) (2020.12.5)\n",
            "Requirement already satisfied: six>=1.5 in /usr/local/lib/python3.7/dist-packages (from python-dateutil>=2.7.3->pandas->socceraction==0.2.0) (1.15.0)\n",
            "Building wheels for collected packages: socceraction\n",
            "  Building wheel for socceraction (setup.py) ... \u001b[?25l\u001b[?25hdone\n",
            "  Created wheel for socceraction: filename=socceraction-0.2.0-cp37-none-any.whl size=30658 sha256=0b406f2e92ddd2d60aaa2503bb4293eeaaee9d884e0085daba2cec635ada7c0f\n",
            "  Stored in directory: /root/.cache/pip/wheels/24/91/85/1211f86b475fba73e483657a89347d82cc15d261847a85995d\n",
            "Successfully built socceraction\n",
            "Installing collected packages: unidecode, socceraction\n",
            "Successfully installed socceraction-0.2.0 unidecode-1.2.0\n"
          ],
          "name": "stdout"
        }
      ]
    },
    {
      "cell_type": "code",
      "metadata": {
        "colab": {
          "base_uri": "https://localhost:8080/"
        },
        "id": "6vfxm4eduD4W",
        "outputId": "51e2dfcf-5017-42f5-9062-e4b252bee730"
      },
      "source": [
        "from google.colab import drive\n",
        "drive.mount('/content/gdrive')\n",
        "%mkdir -p '/content/gdrive/My Drive/Friends of Tracking/'\n",
        "%cd '/content/gdrive/My Drive/Friends of Tracking/'"
      ],
      "execution_count": 4,
      "outputs": [
        {
          "output_type": "stream",
          "text": [
            "Drive already mounted at /content/gdrive; to attempt to forcibly remount, call drive.mount(\"/content/gdrive\", force_remount=True).\n",
            "/content/gdrive/My Drive/Friends of Tracking\n"
          ],
          "name": "stdout"
        }
      ]
    },
    {
      "cell_type": "code",
      "metadata": {
        "id": "q9X4OyCfuZ4R"
      },
      "source": [
        "from io import BytesIO\n",
        "\n",
        "from pathlib import Path\n",
        "\n",
        "from tqdm.notebook import tqdm\n",
        "\n",
        "from urllib.parse import urlparse\n",
        "from urllib.request import urlopen, urlretrieve\n",
        "\n",
        "from zipfile import ZipFile, is_zipfile"
      ],
      "execution_count": 7,
      "outputs": []
    },
    {
      "cell_type": "code",
      "metadata": {
        "id": "iKivbtLjuuzs"
      },
      "source": [
        "import pandas as pd  # version 1.0.3\n",
        "\n",
        "from sklearn.metrics import brier_score_loss, roc_auc_score  # version 0.22.2\n",
        "from xgboost import XGBClassifier  # version 1.0.2\n",
        "\n",
        "import socceraction.vaep.features as features\n",
        "import socceraction.vaep.labels as labels\n",
        "\n",
        "from socceraction.spadl.wyscout import convert_to_spadl\n",
        "from socceraction.vaep.formula import value"
      ],
      "execution_count": 8,
      "outputs": []
    },
    {
      "cell_type": "code",
      "metadata": {
        "id": "ue8sGHlbuxOf"
      },
      "source": [
        "import warnings\n",
        "warnings.filterwarnings('ignore', category=pd.io.pytables.PerformanceWarning)\n"
      ],
      "execution_count": 9,
      "outputs": []
    },
    {
      "cell_type": "code",
      "metadata": {
        "id": "cWtzkzoauzgl"
      },
      "source": [
        "data_files = {\n",
        "    'events': 'https://ndownloader.figshare.com/files/14464685',  # ZIP file containing one JSON file for each competition\n",
        "    'matches': 'https://ndownloader.figshare.com/files/14464622',  # ZIP file containing one JSON file for each competition\n",
        "    'players': 'https://ndownloader.figshare.com/files/15073721',  # JSON file\n",
        "    'teams': 'https://ndownloader.figshare.com/files/15073697'  # JSON file\n",
        "}"
      ],
      "execution_count": 10,
      "outputs": []
    },
    {
      "cell_type": "code",
      "metadata": {
        "colab": {
          "base_uri": "https://localhost:8080/",
          "height": 66,
          "referenced_widgets": [
            "4b0e46537eef439095472f6e5ae74452",
            "14eb20d3b9244ff28f0a0526cf093a26",
            "c114cc6d9178447ab8f8f03041dda45d",
            "a7011776117c462c8809a532d784e04f",
            "55e6a637d02e45b48a64d1d00017da1a",
            "a5235541c8ab49a2bc7a62903eb1f8fd",
            "000db3a571df4fd6956d5706045ccd8c",
            "6f328d08d38d49a38c2df855c9cfe34d"
          ]
        },
        "id": "n29UlzC7u2E1",
        "outputId": "7e40e80c-f53a-4e67-bc3b-001ab062961f"
      },
      "source": [
        "for url in tqdm(data_files.values()):\n",
        "    url_s3 = urlopen(url).geturl()\n",
        "    path = Path(urlparse(url_s3).path)\n",
        "    file_name = path.name\n",
        "    file_local, _ = urlretrieve(url_s3, file_name)\n",
        "    if is_zipfile(file_local):\n",
        "        with ZipFile(file_local) as zip_file:\n",
        "            zip_file.extractall()"
      ],
      "execution_count": 11,
      "outputs": [
        {
          "output_type": "display_data",
          "data": {
            "application/vnd.jupyter.widget-view+json": {
              "model_id": "4b0e46537eef439095472f6e5ae74452",
              "version_minor": 0,
              "version_major": 2
            },
            "text/plain": [
              "HBox(children=(FloatProgress(value=0.0, max=4.0), HTML(value='')))"
            ]
          },
          "metadata": {
            "tags": []
          }
        },
        {
          "output_type": "stream",
          "text": [
            "\n"
          ],
          "name": "stdout"
        }
      ]
    },
    {
      "cell_type": "code",
      "metadata": {
        "id": "mcf77nPEu6yk"
      },
      "source": [
        "def read_json_file(filename):\n",
        "    with open(filename, 'rb') as json_file:\n",
        "        return BytesIO(json_file.read()).getvalue().decode('unicode_escape')"
      ],
      "execution_count": 12,
      "outputs": []
    },
    {
      "cell_type": "markdown",
      "metadata": {
        "id": "rprPNAqdvifN"
      },
      "source": [
        "**Teams**"
      ]
    },
    {
      "cell_type": "code",
      "metadata": {
        "id": "KnrxNMk6vEts"
      },
      "source": [
        "json_teams = read_json_file('teams.json')\n",
        "df_teams = pd.read_json(json_teams)"
      ],
      "execution_count": 13,
      "outputs": []
    },
    {
      "cell_type": "code",
      "metadata": {
        "id": "qs-fN24qvHjM",
        "outputId": "dfa81e80-ee04-4551-fd2b-c10a7cff4f33",
        "colab": {
          "base_uri": "https://localhost:8080/",
          "height": 359
        }
      },
      "source": [
        "df_teams.head(10)"
      ],
      "execution_count": 16,
      "outputs": [
        {
          "output_type": "execute_result",
          "data": {
            "text/html": [
              "<div>\n",
              "<style scoped>\n",
              "    .dataframe tbody tr th:only-of-type {\n",
              "        vertical-align: middle;\n",
              "    }\n",
              "\n",
              "    .dataframe tbody tr th {\n",
              "        vertical-align: top;\n",
              "    }\n",
              "\n",
              "    .dataframe thead th {\n",
              "        text-align: right;\n",
              "    }\n",
              "</style>\n",
              "<table border=\"1\" class=\"dataframe\">\n",
              "  <thead>\n",
              "    <tr style=\"text-align: right;\">\n",
              "      <th></th>\n",
              "      <th>city</th>\n",
              "      <th>name</th>\n",
              "      <th>wyId</th>\n",
              "      <th>officialName</th>\n",
              "      <th>area</th>\n",
              "      <th>type</th>\n",
              "    </tr>\n",
              "  </thead>\n",
              "  <tbody>\n",
              "    <tr>\n",
              "      <th>0</th>\n",
              "      <td>Newcastle upon Tyne</td>\n",
              "      <td>Newcastle United</td>\n",
              "      <td>1613</td>\n",
              "      <td>Newcastle United FC</td>\n",
              "      <td>{'name': 'England', 'id': '0', 'alpha3code': '...</td>\n",
              "      <td>club</td>\n",
              "    </tr>\n",
              "    <tr>\n",
              "      <th>1</th>\n",
              "      <td>Vigo</td>\n",
              "      <td>Celta de Vigo</td>\n",
              "      <td>692</td>\n",
              "      <td>Real Club Celta de Vigo</td>\n",
              "      <td>{'name': 'Spain', 'id': '724', 'alpha3code': '...</td>\n",
              "      <td>club</td>\n",
              "    </tr>\n",
              "    <tr>\n",
              "      <th>2</th>\n",
              "      <td>Barcelona</td>\n",
              "      <td>Espanyol</td>\n",
              "      <td>691</td>\n",
              "      <td>Reial Club Deportiu Espanyol</td>\n",
              "      <td>{'name': 'Spain', 'id': '724', 'alpha3code': '...</td>\n",
              "      <td>club</td>\n",
              "    </tr>\n",
              "    <tr>\n",
              "      <th>3</th>\n",
              "      <td>Vitoria-Gasteiz</td>\n",
              "      <td>Deportivo Alavés</td>\n",
              "      <td>696</td>\n",
              "      <td>Deportivo Alavés</td>\n",
              "      <td>{'name': 'Spain', 'id': '724', 'alpha3code': '...</td>\n",
              "      <td>club</td>\n",
              "    </tr>\n",
              "    <tr>\n",
              "      <th>4</th>\n",
              "      <td>Valencia</td>\n",
              "      <td>Levante</td>\n",
              "      <td>695</td>\n",
              "      <td>Levante UD</td>\n",
              "      <td>{'name': 'Spain', 'id': '724', 'alpha3code': '...</td>\n",
              "      <td>club</td>\n",
              "    </tr>\n",
              "    <tr>\n",
              "      <th>5</th>\n",
              "      <td>Troyes</td>\n",
              "      <td>Troyes</td>\n",
              "      <td>3795</td>\n",
              "      <td>Espérance Sportive Troyes Aube Champagne</td>\n",
              "      <td>{'name': 'France', 'id': '250', 'alpha3code': ...</td>\n",
              "      <td>club</td>\n",
              "    </tr>\n",
              "    <tr>\n",
              "      <th>6</th>\n",
              "      <td>Getafe (Madrid)</td>\n",
              "      <td>Getafe</td>\n",
              "      <td>698</td>\n",
              "      <td>Getafe Club de Fútbol</td>\n",
              "      <td>{'name': 'Spain', 'id': '724', 'alpha3code': '...</td>\n",
              "      <td>club</td>\n",
              "    </tr>\n",
              "    <tr>\n",
              "      <th>7</th>\n",
              "      <td>Mönchengladbach</td>\n",
              "      <td>Borussia M'gladbach</td>\n",
              "      <td>2454</td>\n",
              "      <td>Borussia VfL Mönchengladbach</td>\n",
              "      <td>{'name': 'Germany', 'id': '276', 'alpha3code':...</td>\n",
              "      <td>club</td>\n",
              "    </tr>\n",
              "    <tr>\n",
              "      <th>8</th>\n",
              "      <td>Huddersfield, West Yorkshire</td>\n",
              "      <td>Huddersfield Town</td>\n",
              "      <td>1673</td>\n",
              "      <td>Huddersfield Town FC</td>\n",
              "      <td>{'name': 'England', 'id': '0', 'alpha3code': '...</td>\n",
              "      <td>club</td>\n",
              "    </tr>\n",
              "    <tr>\n",
              "      <th>9</th>\n",
              "      <td>Bilbao</td>\n",
              "      <td>Athletic Club</td>\n",
              "      <td>678</td>\n",
              "      <td>Athletic Club Bilbao</td>\n",
              "      <td>{'name': 'Spain', 'id': '724', 'alpha3code': '...</td>\n",
              "      <td>club</td>\n",
              "    </tr>\n",
              "  </tbody>\n",
              "</table>\n",
              "</div>"
            ],
            "text/plain": [
              "                           city  ...  type\n",
              "0           Newcastle upon Tyne  ...  club\n",
              "1                          Vigo  ...  club\n",
              "2                     Barcelona  ...  club\n",
              "3               Vitoria-Gasteiz  ...  club\n",
              "4                      Valencia  ...  club\n",
              "5                        Troyes  ...  club\n",
              "6               Getafe (Madrid)  ...  club\n",
              "7               Mönchengladbach  ...  club\n",
              "8  Huddersfield, West Yorkshire  ...  club\n",
              "9                        Bilbao  ...  club\n",
              "\n",
              "[10 rows x 6 columns]"
            ]
          },
          "metadata": {
            "tags": []
          },
          "execution_count": 16
        }
      ]
    },
    {
      "cell_type": "code",
      "metadata": {
        "id": "qDm2CKT4vJuX"
      },
      "source": [
        "df_teams.to_hdf('wyscout.h5', key='teams', mode='w')"
      ],
      "execution_count": 17,
      "outputs": []
    },
    {
      "cell_type": "markdown",
      "metadata": {
        "id": "RIdq9UxEvXRP"
      },
      "source": [
        "\n",
        "**Players**"
      ]
    },
    {
      "cell_type": "code",
      "metadata": {
        "id": "BzglSStMvRS4"
      },
      "source": [
        ""
      ],
      "execution_count": null,
      "outputs": []
    }
  ]
}